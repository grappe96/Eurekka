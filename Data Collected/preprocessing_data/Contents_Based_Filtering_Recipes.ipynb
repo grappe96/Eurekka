{
  "nbformat": 4,
  "nbformat_minor": 0,
  "metadata": {
    "kernelspec": {
      "display_name": "Python 3",
      "language": "python",
      "name": "python3"
    },
    "language_info": {
      "codemirror_mode": {
        "name": "ipython",
        "version": 3
      },
      "file_extension": ".py",
      "mimetype": "text/x-python",
      "name": "python",
      "nbconvert_exporter": "python",
      "pygments_lexer": "ipython3",
      "version": "3.6.5"
    },
    "colab": {
      "name": "Contents_Based_Filtering_Recipes.ipynb",
      "provenance": [],
      "collapsed_sections": []
    }
  },
  "cells": [
    {
      "cell_type": "markdown",
      "metadata": {
        "id": "Nyu0epg-bH4C"
      },
      "source": [
        "### Recommend Recipes By Contents Based Filtering \n"
      ]
    },
    {
      "cell_type": "code",
      "metadata": {
        "colab": {
          "base_uri": "https://localhost:8080/",
          "height": 378
        },
        "id": "Hg2ZxpfmbH4F",
        "outputId": "8d44dd4b-0622-4caf-d91f-a5a260da9240"
      },
      "source": [
        "import pandas as pd\n",
        "import numpy as np\n",
        "import warnings; warnings.filterwarnings('ignore')\n",
        "from google.colab import drive\n",
        "drive.mount('/gdrive')\n",
        "\n",
        "recipes=pd.read_excel('/gdrive/My Drive/Colab Notebooks/DataHandling/recipes_recommend.xlsx')\n",
        "print(type(recipes))\n",
        "recipes.head(10)"
      ],
      "execution_count": 1,
      "outputs": [
        {
          "output_type": "stream",
          "text": [
            "Drive already mounted at /gdrive; to attempt to forcibly remount, call drive.mount(\"/gdrive\", force_remount=True).\n",
            "<class 'pandas.core.frame.DataFrame'>\n"
          ],
          "name": "stdout"
        },
        {
          "output_type": "execute_result",
          "data": {
            "text/html": [
              "<div>\n",
              "<style scoped>\n",
              "    .dataframe tbody tr th:only-of-type {\n",
              "        vertical-align: middle;\n",
              "    }\n",
              "\n",
              "    .dataframe tbody tr th {\n",
              "        vertical-align: top;\n",
              "    }\n",
              "\n",
              "    .dataframe thead th {\n",
              "        text-align: right;\n",
              "    }\n",
              "</style>\n",
              "<table border=\"1\" class=\"dataframe\">\n",
              "  <thead>\n",
              "    <tr style=\"text-align: right;\">\n",
              "      <th></th>\n",
              "      <th>seq</th>\n",
              "      <th>section</th>\n",
              "      <th>title</th>\n",
              "      <th>parts</th>\n",
              "    </tr>\n",
              "  </thead>\n",
              "  <tbody>\n",
              "    <tr>\n",
              "      <th>0</th>\n",
              "      <td>1</td>\n",
              "      <td>food</td>\n",
              "      <td>칼륨 듬뿍 고구마죽</td>\n",
              "      <td>고구마 설탕 찹쌀가루 물 잣</td>\n",
              "    </tr>\n",
              "    <tr>\n",
              "      <th>1</th>\n",
              "      <td>2</td>\n",
              "      <td>food</td>\n",
              "      <td>누룽지 두부 계란죽</td>\n",
              "      <td>애호박 표고버섯 당근 누룽지 순두부 달걀 참기름 소금 참깨 흰후추</td>\n",
              "    </tr>\n",
              "    <tr>\n",
              "      <th>2</th>\n",
              "      <td>3</td>\n",
              "      <td>food</td>\n",
              "      <td>오색지라시 스시</td>\n",
              "      <td>밥 식초 설탕 소금 달걀노른자 표고버섯 새송이버섯 새우 홍피망 청피망 양파 대두유 ...</td>\n",
              "    </tr>\n",
              "    <tr>\n",
              "      <th>3</th>\n",
              "      <td>4</td>\n",
              "      <td>food</td>\n",
              "      <td>두부 곤약 나물 비빔밥</td>\n",
              "      <td>두부 흰쌀 현미쌀 찹쌀 실곤약 콩나물 표고버섯 애호박 고사리 당근 소금 소금나물데침...</td>\n",
              "    </tr>\n",
              "    <tr>\n",
              "      <th>4</th>\n",
              "      <td>5</td>\n",
              "      <td>food</td>\n",
              "      <td>간장을 이용한 닭개장 비빔밥</td>\n",
              "      <td>쌀 검은쌀 닭가슴살 월계수잎 후추 숙주 토란대 고사리 달걀 대파 들기름 실고추 소금...</td>\n",
              "    </tr>\n",
              "    <tr>\n",
              "      <th>5</th>\n",
              "      <td>6</td>\n",
              "      <td>food</td>\n",
              "      <td>취나물 비빔밥 &amp; 청국장 쌈장</td>\n",
              "      <td>밥 쇠고기 취나물 양파 마늘 간장 매실즙 참기름 참깨 소금 청국장 된장 콩가루 멸치...</td>\n",
              "    </tr>\n",
              "    <tr>\n",
              "      <th>6</th>\n",
              "      <td>7</td>\n",
              "      <td>food</td>\n",
              "      <td>해물 채소장을 넣은 곰취 쌈밥</td>\n",
              "      <td>잡곡밥 곰취 소금 조갯살 새우살 오징어살 감자 애호박 양파 청양고추 표고버섯 대파 ...</td>\n",
              "    </tr>\n",
              "    <tr>\n",
              "      <th>7</th>\n",
              "      <td>8</td>\n",
              "      <td>food</td>\n",
              "      <td>단호박 케일밥</td>\n",
              "      <td>찹쌀 밤 은행 잣 단호박 대추 케일 물 설탕</td>\n",
              "    </tr>\n",
              "    <tr>\n",
              "      <th>8</th>\n",
              "      <td>9</td>\n",
              "      <td>food</td>\n",
              "      <td>오색영양밥 롤</td>\n",
              "      <td>찹쌀 흑미 바지락 강낭콩 완두콩 메주콩 은행 달걀 애호박 가지 당근 표고버섯 대추 ...</td>\n",
              "    </tr>\n",
              "    <tr>\n",
              "      <th>9</th>\n",
              "      <td>10</td>\n",
              "      <td>food</td>\n",
              "      <td>새우 두부 계란찜</td>\n",
              "      <td>연두부 칵테일새우 달걀 생크림 설탕 버터 시금치</td>\n",
              "    </tr>\n",
              "  </tbody>\n",
              "</table>\n",
              "</div>"
            ],
            "text/plain": [
              "  seq  ...                                              parts\n",
              "0   1  ...                                    고구마 설탕 찹쌀가루 물 잣\n",
              "1   2  ...               애호박 표고버섯 당근 누룽지 순두부 달걀 참기름 소금 참깨 흰후추\n",
              "2   3  ...  밥 식초 설탕 소금 달걀노른자 표고버섯 새송이버섯 새우 홍피망 청피망 양파 대두유 ...\n",
              "3   4  ...  두부 흰쌀 현미쌀 찹쌀 실곤약 콩나물 표고버섯 애호박 고사리 당근 소금 소금나물데침...\n",
              "4   5  ...  쌀 검은쌀 닭가슴살 월계수잎 후추 숙주 토란대 고사리 달걀 대파 들기름 실고추 소금...\n",
              "5   6  ...  밥 쇠고기 취나물 양파 마늘 간장 매실즙 참기름 참깨 소금 청국장 된장 콩가루 멸치...\n",
              "6   7  ...  잡곡밥 곰취 소금 조갯살 새우살 오징어살 감자 애호박 양파 청양고추 표고버섯 대파 ...\n",
              "7   8  ...                           찹쌀 밤 은행 잣 단호박 대추 케일 물 설탕\n",
              "8   9  ...  찹쌀 흑미 바지락 강낭콩 완두콩 메주콩 은행 달걀 애호박 가지 당근 표고버섯 대추 ...\n",
              "9  10  ...                         연두부 칵테일새우 달걀 생크림 설탕 버터 시금치\n",
              "\n",
              "[10 rows x 4 columns]"
            ]
          },
          "metadata": {
            "tags": []
          },
          "execution_count": 1
        }
      ]
    },
    {
      "cell_type": "code",
      "metadata": {
        "colab": {
          "base_uri": "https://localhost:8080/"
        },
        "id": "O_VyLtv0bH4K",
        "outputId": "f5d95cfd-0243-457b-b868-3895162b435f"
      },
      "source": [
        "from sklearn.feature_extraction.text import CountVectorizer\n",
        "\n",
        "# CountVectorizer를 적용하기 위해 공백문자로 word 단위가 구분되는 문자열로 변환. \n",
        "count_vect = CountVectorizer(min_df=0, ngram_range=(1,2))\n",
        "prefer_mat = count_vect.fit_transform(recipes['parts'])\n",
        "print(prefer_mat.shape)"
      ],
      "execution_count": 2,
      "outputs": [
        {
          "output_type": "stream",
          "text": [
            "(1308, 10114)\n"
          ],
          "name": "stdout"
        }
      ]
    },
    {
      "cell_type": "code",
      "metadata": {
        "colab": {
          "base_uri": "https://localhost:8080/"
        },
        "id": "wmOssIwFbH4L",
        "outputId": "42551434-cd56-439a-f85a-a8994167b5c4"
      },
      "source": [
        "from sklearn.metrics.pairwise import cosine_similarity\n",
        "\n",
        "prefer_sim = cosine_similarity(prefer_mat, prefer_mat)\n",
        "print(prefer_sim.shape)\n",
        "print(prefer_sim)\n"
      ],
      "execution_count": 3,
      "outputs": [
        {
          "output_type": "stream",
          "text": [
            "(1308, 1308)\n",
            "[[1.         0.         0.08944272 ... 0.         0.         0.        ]\n",
            " [0.         1.         0.13764944 ... 0.1338549  0.         0.19088543]\n",
            " [0.08944272 0.13764944 1.         ... 0.11669199 0.07698004 0.11094004]\n",
            " ...\n",
            " [0.         0.1338549  0.11669199 ... 1.         0.02807173 0.48546804]\n",
            " [0.         0.         0.07698004 ... 0.02807173 1.         0.05337605]\n",
            " [0.         0.19088543 0.11094004 ... 0.48546804 0.05337605 1.        ]]\n"
          ],
          "name": "stdout"
        }
      ]
    },
    {
      "cell_type": "code",
      "metadata": {
        "id": "VsPkHBGEM5LT"
      },
      "source": [
        "# recipes_data = pd.DataFrame(prefer_sim)\n",
        "# xlxs_dir = '/gdrive/My Drive/Colab Notebooks/DataHandling/recipesData.xlsx'\n",
        "\n",
        "# with pd.ExcelWriter(xlxs_dir) as writer:\n",
        "#      recipes_data.to_excel(writer, sheet_name = 'compare')"
      ],
      "execution_count": 4,
      "outputs": []
    },
    {
      "cell_type": "code",
      "metadata": {
        "colab": {
          "base_uri": "https://localhost:8080/"
        },
        "id": "qzZEb7ULbH4M",
        "outputId": "ea07bde9-ac65-4527-fee8-8db8f5917f5c"
      },
      "source": [
        "prefer_sim_sorted_ind = prefer_sim.argsort()[:, ::-1]\n",
        "print(prefer_sim_sorted_ind)"
      ],
      "execution_count": 5,
      "outputs": [
        {
          "output_type": "stream",
          "text": [
            "[[   0 1200 1129 ...  693  692 1307]\n",
            " [   1  579  601 ...  433  434    0]\n",
            " [   2 1194  930 ... 1063 1244  477]\n",
            " ...\n",
            " [1305 1307  818 ...  937  938    0]\n",
            " [1306 1297 1281 ...  748  746    0]\n",
            " [1307 1305  818 ...  325  327    0]]\n"
          ],
          "name": "stdout"
        }
      ]
    },
    {
      "cell_type": "code",
      "metadata": {
        "id": "gb6_B8h9bH4M"
      },
      "source": [
        "def find_sim_recipes(df, sorted_ind, my_refrigerator):\n",
        "    \n",
        "    # 인자로 입력된 plants DataFrame에서 'RCP_NM' 컬럼이 입력된 my_refrigerator 값인 DataFrame추출\n",
        "    refrigerator = df[df['title'] == my_refrigerator]\n",
        "    \n",
        "    # my_refrigerator을 가진 DataFrame의 index 객체를 ndarray로 반환하고 \n",
        "    # sorted_ind 인자로 입력된 prefer_sim_sorted_ind 객체에서 유사도 순으로 top_n 개의 index 추출\n",
        "    refrigerator_index = refrigerator.index.values\n",
        "    \n",
        "    similar_indexes = sorted_ind[refrigerator_index]\n",
        "    \n",
        "    # 추출된 top_n index들 출력. top_n index는 2차원 데이터 임. \n",
        "    #dataframe에서 index로 사용하기 위해서 1차원 array로 변경\n",
        "    # print(similar_indexes)\n",
        "    similar_indexes = similar_indexes.reshape(-1)\n",
        "    \n",
        "    return df.iloc[similar_indexes]\n"
      ],
      "execution_count": 6,
      "outputs": []
    },
    {
      "cell_type": "code",
      "metadata": {
        "colab": {
          "base_uri": "https://localhost:8080/",
          "height": 343
        },
        "id": "YTUygCHAbH4N",
        "outputId": "bba855dc-3c7b-4409-cdcb-f316a8d2d01e"
      },
      "source": [
        "similar_recipes = find_sim_recipes(recipes, prefer_sim_sorted_ind, '내 냉장고')\n",
        "similar_recipes = similar_recipes[similar_recipes['section'] == 'food']\n",
        "similar_recipes[:10]"
      ],
      "execution_count": 7,
      "outputs": [
        {
          "output_type": "execute_result",
          "data": {
            "text/html": [
              "<div>\n",
              "<style scoped>\n",
              "    .dataframe tbody tr th:only-of-type {\n",
              "        vertical-align: middle;\n",
              "    }\n",
              "\n",
              "    .dataframe tbody tr th {\n",
              "        vertical-align: top;\n",
              "    }\n",
              "\n",
              "    .dataframe thead th {\n",
              "        text-align: right;\n",
              "    }\n",
              "</style>\n",
              "<table border=\"1\" class=\"dataframe\">\n",
              "  <thead>\n",
              "    <tr style=\"text-align: right;\">\n",
              "      <th></th>\n",
              "      <th>seq</th>\n",
              "      <th>section</th>\n",
              "      <th>title</th>\n",
              "      <th>parts</th>\n",
              "    </tr>\n",
              "  </thead>\n",
              "  <tbody>\n",
              "    <tr>\n",
              "      <th>1305</th>\n",
              "      <td>1306</td>\n",
              "      <td>food</td>\n",
              "      <td>삼각김밥 빵</td>\n",
              "      <td>쌀가루 우유 물 르뱅발효종 달걀 소금 올리브유 양파 당근 먹물가루 토마토 양파 피망...</td>\n",
              "    </tr>\n",
              "    <tr>\n",
              "      <th>818</th>\n",
              "      <td>819</td>\n",
              "      <td>food</td>\n",
              "      <td>새우살토마토스튜</td>\n",
              "      <td>새우살 토마토 양파 당근 애호박 건다시마 버터 케찹 후추 소금 물</td>\n",
              "    </tr>\n",
              "    <tr>\n",
              "      <th>967</th>\n",
              "      <td>968</td>\n",
              "      <td>food</td>\n",
              "      <td>야채 오믈렛</td>\n",
              "      <td>양파 당근 홍피망 청피망 밀가루 베이킹파우더 설탕 달걀 우유 토마토케첩 식용유 소금</td>\n",
              "    </tr>\n",
              "    <tr>\n",
              "      <th>985</th>\n",
              "      <td>986</td>\n",
              "      <td>food</td>\n",
              "      <td>낫토 시래기 라이스전</td>\n",
              "      <td>밥 양파 당근 낫토 시래기 카레가루 파 밀가루 달걀 식용유 소금 후춧가루</td>\n",
              "    </tr>\n",
              "    <tr>\n",
              "      <th>1146</th>\n",
              "      <td>1147</td>\n",
              "      <td>food</td>\n",
              "      <td>펌킨크로켓</td>\n",
              "      <td>단호박 양파 당근 참나물 달걀 모짜렐라치즈 빵가루 식용유 소금 후춧가루</td>\n",
              "    </tr>\n",
              "    <tr>\n",
              "      <th>919</th>\n",
              "      <td>920</td>\n",
              "      <td>food</td>\n",
              "      <td>알파벳 스프</td>\n",
              "      <td>양파 샐러리 당근 마늘 식용유 닭육수 후추 소금 월계수잎 알파벳파스타</td>\n",
              "    </tr>\n",
              "    <tr>\n",
              "      <th>221</th>\n",
              "      <td>222</td>\n",
              "      <td>food</td>\n",
              "      <td>콩나물부추볶음</td>\n",
              "      <td>콩나물 부추 양파 당근 파 감자 소금 식용유</td>\n",
              "    </tr>\n",
              "    <tr>\n",
              "      <th>680</th>\n",
              "      <td>681</td>\n",
              "      <td>food</td>\n",
              "      <td>양송이크림볶음밥</td>\n",
              "      <td>닭고기살 양송이 떡볶이떡 양파 당근 소금 버터 밥 육수 우유 생크림 치즈</td>\n",
              "    </tr>\n",
              "    <tr>\n",
              "      <th>922</th>\n",
              "      <td>923</td>\n",
              "      <td>food</td>\n",
              "      <td>야채빵</td>\n",
              "      <td>밀가루 베이킹파우더 버터 달걀 설탕 당근 양파 캔옥수수 완두콩 우유 소금</td>\n",
              "    </tr>\n",
              "    <tr>\n",
              "      <th>1072</th>\n",
              "      <td>1073</td>\n",
              "      <td>food</td>\n",
              "      <td>호두 치킨</td>\n",
              "      <td>달각슴살 올리브오일 양파 당근 닭육수 호두 건포도 계피가루 큐민씨 소금 후추</td>\n",
              "    </tr>\n",
              "  </tbody>\n",
              "</table>\n",
              "</div>"
            ],
            "text/plain": [
              "       seq  ...                                              parts\n",
              "1305  1306  ...  쌀가루 우유 물 르뱅발효종 달걀 소금 올리브유 양파 당근 먹물가루 토마토 양파 피망...\n",
              "818    819  ...               새우살 토마토 양파 당근 애호박 건다시마 버터 케찹 후추 소금 물\n",
              "967    968  ...     양파 당근 홍피망 청피망 밀가루 베이킹파우더 설탕 달걀 우유 토마토케첩 식용유 소금\n",
              "985    986  ...           밥 양파 당근 낫토 시래기 카레가루 파 밀가루 달걀 식용유 소금 후춧가루\n",
              "1146  1147  ...            단호박 양파 당근 참나물 달걀 모짜렐라치즈 빵가루 식용유 소금 후춧가루\n",
              "919    920  ...             양파 샐러리 당근 마늘 식용유 닭육수 후추 소금 월계수잎 알파벳파스타\n",
              "221    222  ...                           콩나물 부추 양파 당근 파 감자 소금 식용유\n",
              "680    681  ...           닭고기살 양송이 떡볶이떡 양파 당근 소금 버터 밥 육수 우유 생크림 치즈\n",
              "922    923  ...           밀가루 베이킹파우더 버터 달걀 설탕 당근 양파 캔옥수수 완두콩 우유 소금\n",
              "1072  1073  ...         달각슴살 올리브오일 양파 당근 닭육수 호두 건포도 계피가루 큐민씨 소금 후추\n",
              "\n",
              "[10 rows x 4 columns]"
            ]
          },
          "metadata": {
            "tags": []
          },
          "execution_count": 7
        }
      ]
    }
  ]
}